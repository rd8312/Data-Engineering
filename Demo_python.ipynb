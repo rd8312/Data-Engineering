{
 "cells": [
  {
   "cell_type": "code",
   "execution_count": 3,
   "source": [
    "def permutation(lst):\r\n",
    "    if len(lst) == 0:\r\n",
    "        return []\r\n",
    "    if len(lst) == 1:\r\n",
    "        return [lst]\r\n",
    "    l = []\r\n",
    "    for i in range(len(lst)):\r\n",
    "        m = lst[i]\r\n",
    "        rem_lst = lst[:i] + lst[i+1:]\r\n",
    "        for p in permutation(rem_lst):\r\n",
    "            l.append([m] + p)\r\n",
    "    return l\r\n",
    "\r\n",
    "\r\n",
    "data = list('hello world')\r\n",
    "for p in permutation(data):\r\n",
    "    print(p)\r\n",
    "\r\n"
   ],
   "outputs": [
    {
     "output_type": "error",
     "ename": "KeyboardInterrupt",
     "evalue": "",
     "traceback": [
      "\u001b[1;31m---------------------------------------------------------------------------\u001b[0m",
      "\u001b[1;31mKeyboardInterrupt\u001b[0m                         Traceback (most recent call last)",
      "\u001b[1;32m<ipython-input-3-ce3c4f128813>\u001b[0m in \u001b[0;36m<module>\u001b[1;34m\u001b[0m\n\u001b[0;32m     14\u001b[0m \u001b[1;33m\u001b[0m\u001b[0m\n\u001b[0;32m     15\u001b[0m \u001b[0mdata\u001b[0m \u001b[1;33m=\u001b[0m \u001b[0mlist\u001b[0m\u001b[1;33m(\u001b[0m\u001b[1;34m'hello world'\u001b[0m\u001b[1;33m)\u001b[0m\u001b[1;33m\u001b[0m\u001b[1;33m\u001b[0m\u001b[0m\n\u001b[1;32m---> 16\u001b[1;33m \u001b[1;32mfor\u001b[0m \u001b[0mp\u001b[0m \u001b[1;32min\u001b[0m \u001b[0mpermutation\u001b[0m\u001b[1;33m(\u001b[0m\u001b[0mdata\u001b[0m\u001b[1;33m)\u001b[0m\u001b[1;33m:\u001b[0m\u001b[1;33m\u001b[0m\u001b[1;33m\u001b[0m\u001b[0m\n\u001b[0m\u001b[0;32m     17\u001b[0m     \u001b[0mprint\u001b[0m\u001b[1;33m(\u001b[0m\u001b[0mp\u001b[0m\u001b[1;33m)\u001b[0m\u001b[1;33m\u001b[0m\u001b[1;33m\u001b[0m\u001b[0m\n\u001b[0;32m     18\u001b[0m \u001b[1;33m\u001b[0m\u001b[0m\n",
      "\u001b[1;32m<ipython-input-3-ce3c4f128813>\u001b[0m in \u001b[0;36mpermutation\u001b[1;34m(lst)\u001b[0m\n\u001b[0;32m      8\u001b[0m         \u001b[0mm\u001b[0m \u001b[1;33m=\u001b[0m \u001b[0mlst\u001b[0m\u001b[1;33m[\u001b[0m\u001b[0mi\u001b[0m\u001b[1;33m]\u001b[0m\u001b[1;33m\u001b[0m\u001b[1;33m\u001b[0m\u001b[0m\n\u001b[0;32m      9\u001b[0m         \u001b[0mrem_lst\u001b[0m \u001b[1;33m=\u001b[0m \u001b[0mlst\u001b[0m\u001b[1;33m[\u001b[0m\u001b[1;33m:\u001b[0m\u001b[0mi\u001b[0m\u001b[1;33m]\u001b[0m \u001b[1;33m+\u001b[0m \u001b[0mlst\u001b[0m\u001b[1;33m[\u001b[0m\u001b[0mi\u001b[0m\u001b[1;33m+\u001b[0m\u001b[1;36m1\u001b[0m\u001b[1;33m:\u001b[0m\u001b[1;33m]\u001b[0m\u001b[1;33m\u001b[0m\u001b[1;33m\u001b[0m\u001b[0m\n\u001b[1;32m---> 10\u001b[1;33m         \u001b[1;32mfor\u001b[0m \u001b[0mp\u001b[0m \u001b[1;32min\u001b[0m \u001b[0mpermutation\u001b[0m\u001b[1;33m(\u001b[0m\u001b[0mrem_lst\u001b[0m\u001b[1;33m)\u001b[0m\u001b[1;33m:\u001b[0m\u001b[1;33m\u001b[0m\u001b[1;33m\u001b[0m\u001b[0m\n\u001b[0m\u001b[0;32m     11\u001b[0m             \u001b[0ml\u001b[0m\u001b[1;33m.\u001b[0m\u001b[0mappend\u001b[0m\u001b[1;33m(\u001b[0m\u001b[1;33m[\u001b[0m\u001b[0mm\u001b[0m\u001b[1;33m]\u001b[0m \u001b[1;33m+\u001b[0m \u001b[0mp\u001b[0m\u001b[1;33m)\u001b[0m\u001b[1;33m\u001b[0m\u001b[1;33m\u001b[0m\u001b[0m\n\u001b[0;32m     12\u001b[0m     \u001b[1;32mreturn\u001b[0m \u001b[0ml\u001b[0m\u001b[1;33m\u001b[0m\u001b[1;33m\u001b[0m\u001b[0m\n",
      "\u001b[1;32m<ipython-input-3-ce3c4f128813>\u001b[0m in \u001b[0;36mpermutation\u001b[1;34m(lst)\u001b[0m\n\u001b[0;32m      8\u001b[0m         \u001b[0mm\u001b[0m \u001b[1;33m=\u001b[0m \u001b[0mlst\u001b[0m\u001b[1;33m[\u001b[0m\u001b[0mi\u001b[0m\u001b[1;33m]\u001b[0m\u001b[1;33m\u001b[0m\u001b[1;33m\u001b[0m\u001b[0m\n\u001b[0;32m      9\u001b[0m         \u001b[0mrem_lst\u001b[0m \u001b[1;33m=\u001b[0m \u001b[0mlst\u001b[0m\u001b[1;33m[\u001b[0m\u001b[1;33m:\u001b[0m\u001b[0mi\u001b[0m\u001b[1;33m]\u001b[0m \u001b[1;33m+\u001b[0m \u001b[0mlst\u001b[0m\u001b[1;33m[\u001b[0m\u001b[0mi\u001b[0m\u001b[1;33m+\u001b[0m\u001b[1;36m1\u001b[0m\u001b[1;33m:\u001b[0m\u001b[1;33m]\u001b[0m\u001b[1;33m\u001b[0m\u001b[1;33m\u001b[0m\u001b[0m\n\u001b[1;32m---> 10\u001b[1;33m         \u001b[1;32mfor\u001b[0m \u001b[0mp\u001b[0m \u001b[1;32min\u001b[0m \u001b[0mpermutation\u001b[0m\u001b[1;33m(\u001b[0m\u001b[0mrem_lst\u001b[0m\u001b[1;33m)\u001b[0m\u001b[1;33m:\u001b[0m\u001b[1;33m\u001b[0m\u001b[1;33m\u001b[0m\u001b[0m\n\u001b[0m\u001b[0;32m     11\u001b[0m             \u001b[0ml\u001b[0m\u001b[1;33m.\u001b[0m\u001b[0mappend\u001b[0m\u001b[1;33m(\u001b[0m\u001b[1;33m[\u001b[0m\u001b[0mm\u001b[0m\u001b[1;33m]\u001b[0m \u001b[1;33m+\u001b[0m \u001b[0mp\u001b[0m\u001b[1;33m)\u001b[0m\u001b[1;33m\u001b[0m\u001b[1;33m\u001b[0m\u001b[0m\n\u001b[0;32m     12\u001b[0m     \u001b[1;32mreturn\u001b[0m \u001b[0ml\u001b[0m\u001b[1;33m\u001b[0m\u001b[1;33m\u001b[0m\u001b[0m\n",
      "\u001b[1;32m<ipython-input-3-ce3c4f128813>\u001b[0m in \u001b[0;36mpermutation\u001b[1;34m(lst)\u001b[0m\n\u001b[0;32m      8\u001b[0m         \u001b[0mm\u001b[0m \u001b[1;33m=\u001b[0m \u001b[0mlst\u001b[0m\u001b[1;33m[\u001b[0m\u001b[0mi\u001b[0m\u001b[1;33m]\u001b[0m\u001b[1;33m\u001b[0m\u001b[1;33m\u001b[0m\u001b[0m\n\u001b[0;32m      9\u001b[0m         \u001b[0mrem_lst\u001b[0m \u001b[1;33m=\u001b[0m \u001b[0mlst\u001b[0m\u001b[1;33m[\u001b[0m\u001b[1;33m:\u001b[0m\u001b[0mi\u001b[0m\u001b[1;33m]\u001b[0m \u001b[1;33m+\u001b[0m \u001b[0mlst\u001b[0m\u001b[1;33m[\u001b[0m\u001b[0mi\u001b[0m\u001b[1;33m+\u001b[0m\u001b[1;36m1\u001b[0m\u001b[1;33m:\u001b[0m\u001b[1;33m]\u001b[0m\u001b[1;33m\u001b[0m\u001b[1;33m\u001b[0m\u001b[0m\n\u001b[1;32m---> 10\u001b[1;33m         \u001b[1;32mfor\u001b[0m \u001b[0mp\u001b[0m \u001b[1;32min\u001b[0m \u001b[0mpermutation\u001b[0m\u001b[1;33m(\u001b[0m\u001b[0mrem_lst\u001b[0m\u001b[1;33m)\u001b[0m\u001b[1;33m:\u001b[0m\u001b[1;33m\u001b[0m\u001b[1;33m\u001b[0m\u001b[0m\n\u001b[0m\u001b[0;32m     11\u001b[0m             \u001b[0ml\u001b[0m\u001b[1;33m.\u001b[0m\u001b[0mappend\u001b[0m\u001b[1;33m(\u001b[0m\u001b[1;33m[\u001b[0m\u001b[0mm\u001b[0m\u001b[1;33m]\u001b[0m \u001b[1;33m+\u001b[0m \u001b[0mp\u001b[0m\u001b[1;33m)\u001b[0m\u001b[1;33m\u001b[0m\u001b[1;33m\u001b[0m\u001b[0m\n\u001b[0;32m     12\u001b[0m     \u001b[1;32mreturn\u001b[0m \u001b[0ml\u001b[0m\u001b[1;33m\u001b[0m\u001b[1;33m\u001b[0m\u001b[0m\n",
      "\u001b[1;32m<ipython-input-3-ce3c4f128813>\u001b[0m in \u001b[0;36mpermutation\u001b[1;34m(lst)\u001b[0m\n\u001b[0;32m      9\u001b[0m         \u001b[0mrem_lst\u001b[0m \u001b[1;33m=\u001b[0m \u001b[0mlst\u001b[0m\u001b[1;33m[\u001b[0m\u001b[1;33m:\u001b[0m\u001b[0mi\u001b[0m\u001b[1;33m]\u001b[0m \u001b[1;33m+\u001b[0m \u001b[0mlst\u001b[0m\u001b[1;33m[\u001b[0m\u001b[0mi\u001b[0m\u001b[1;33m+\u001b[0m\u001b[1;36m1\u001b[0m\u001b[1;33m:\u001b[0m\u001b[1;33m]\u001b[0m\u001b[1;33m\u001b[0m\u001b[1;33m\u001b[0m\u001b[0m\n\u001b[0;32m     10\u001b[0m         \u001b[1;32mfor\u001b[0m \u001b[0mp\u001b[0m \u001b[1;32min\u001b[0m \u001b[0mpermutation\u001b[0m\u001b[1;33m(\u001b[0m\u001b[0mrem_lst\u001b[0m\u001b[1;33m)\u001b[0m\u001b[1;33m:\u001b[0m\u001b[1;33m\u001b[0m\u001b[1;33m\u001b[0m\u001b[0m\n\u001b[1;32m---> 11\u001b[1;33m             \u001b[0ml\u001b[0m\u001b[1;33m.\u001b[0m\u001b[0mappend\u001b[0m\u001b[1;33m(\u001b[0m\u001b[1;33m[\u001b[0m\u001b[0mm\u001b[0m\u001b[1;33m]\u001b[0m \u001b[1;33m+\u001b[0m \u001b[0mp\u001b[0m\u001b[1;33m)\u001b[0m\u001b[1;33m\u001b[0m\u001b[1;33m\u001b[0m\u001b[0m\n\u001b[0m\u001b[0;32m     12\u001b[0m     \u001b[1;32mreturn\u001b[0m \u001b[0ml\u001b[0m\u001b[1;33m\u001b[0m\u001b[1;33m\u001b[0m\u001b[0m\n\u001b[0;32m     13\u001b[0m \u001b[1;33m\u001b[0m\u001b[0m\n",
      "\u001b[1;31mKeyboardInterrupt\u001b[0m: "
     ]
    }
   ],
   "metadata": {}
  },
  {
   "cell_type": "code",
   "execution_count": 1,
   "source": [
    "def permutation(lst):\r\n",
    "    if len(lst) == 0:\r\n",
    "        return []\r\n",
    "    if len(lst) == 1:\r\n",
    "        return [lst]\r\n",
    "    l = []\r\n",
    "    for i in range(len(lst)):\r\n",
    "        m = lst[i]\r\n",
    "        rem_lst = lst[:i] + lst[i+1:]\r\n",
    "        for p in permutation(rem_lst):\r\n",
    "            l.append([m] + p)\r\n",
    "    return l"
   ],
   "outputs": [],
   "metadata": {}
  },
  {
   "cell_type": "code",
   "execution_count": 3,
   "source": [
    "data = list(input(\"Please enter the permumations of Word :\"))\r\n",
    "for p in permutation(data):\r\n",
    "    print(p)"
   ],
   "outputs": [
    {
     "output_type": "stream",
     "name": "stdout",
     "text": [
      "['t', 'm', 'p']\n",
      "['t', 'p', 'm']\n",
      "['m', 't', 'p']\n",
      "['m', 'p', 't']\n",
      "['p', 't', 'm']\n",
      "['p', 'm', 't']\n"
     ]
    }
   ],
   "metadata": {}
  },
  {
   "cell_type": "markdown",
   "source": [
    "Queue"
   ],
   "metadata": {}
  },
  {
   "cell_type": "code",
   "execution_count": 20,
   "source": [
    "class Queue:\r\n",
    "\r\n",
    "    def __init__(self):\r\n",
    "        self.items = []\r\n",
    "        self.size = 0\r\n",
    "        self.front = 0\r\n",
    "        self.rear = 0\r\n",
    "\r\n",
    "    def is_empty(self):\r\n",
    "        return self.items == []\r\n",
    "\r\n",
    "    def is_full(self):\r\n",
    "        return len(self.items) == self.size\r\n",
    "\r\n",
    "    def enqueue(self, data):\r\n",
    "\r\n",
    "        self.items.insert(self.rear,data)\r\n",
    "        self.size +=1\r\n",
    "        self.rear +=1\r\n",
    "\r\n",
    "    def dequeue(self):\r\n",
    "        data = self.items.pop(self.front)\r\n",
    "        self.size -=1\r\n",
    "        self.rear -=1\r\n",
    "        return data\r\n",
    "\r\n",
    "    def check_number(self):\r\n",
    "        return self.size"
   ],
   "outputs": [],
   "metadata": {}
  },
  {
   "cell_type": "code",
   "execution_count": 21,
   "source": [
    "list_queue = Queue()\r\n",
    "\r\n",
    "import time\r\n",
    "start_time = time.time()\r\n",
    "for i in range(100000):\r\n",
    "    #print(i)\r\n",
    "    list_queue.enqueue(i)\r\n",
    "for i in range(100000):\r\n",
    "    list_queue.dequeue()\r\n",
    "print(\"--- %s seconds ---\" % (time.time() - start_time))"
   ],
   "outputs": [
    {
     "output_type": "stream",
     "name": "stdout",
     "text": [
      "--- 9.580593824386597 seconds ---\n"
     ]
    }
   ],
   "metadata": {}
  },
  {
   "cell_type": "code",
   "execution_count": 13,
   "source": [
    "outbound_stack = []\r\n",
    "if not outbound_stack:\r\n",
    "    print('empty')"
   ],
   "outputs": [
    {
     "output_type": "stream",
     "name": "stdout",
     "text": [
      "empty\n"
     ]
    }
   ],
   "metadata": {}
  },
  {
   "cell_type": "code",
   "execution_count": 14,
   "source": [
    "outbound_stack = []\r\n",
    "\r\n",
    "def is_empty(data):\r\n",
    "    return data == []\r\n",
    "\r\n",
    "if is_empty(outbound_stack):\r\n",
    "    print('empty')"
   ],
   "outputs": [
    {
     "output_type": "stream",
     "name": "stdout",
     "text": [
      "empty\n"
     ]
    }
   ],
   "metadata": {}
  },
  {
   "cell_type": "code",
   "execution_count": 18,
   "source": [
    "class Stack_Queue:\r\n",
    "\r\n",
    "    def __init__(self):\r\n",
    "        self.in_stack = []\r\n",
    "        self.out_stack = []\r\n",
    "    \r\n",
    "    def enqueue(self, data):\r\n",
    "        self.in_stack.append(data)\r\n",
    "\r\n",
    "    def dequeue(self):\r\n",
    "        if not self.out_stack:\r\n",
    "            while self.in_stack:\r\n",
    "                self.out_stack.append(self.in_stack.pop())\r\n",
    "        return self.out_stack.pop()"
   ],
   "outputs": [],
   "metadata": {}
  },
  {
   "cell_type": "code",
   "execution_count": 22,
   "source": [
    "import time\r\n",
    "start_time = time.time()\r\n",
    "array_queue = Stack_Queue()\r\n",
    "for i in range(100000):\r\n",
    "    #print i\r\n",
    "    array_queue.enqueue(i)\r\n",
    "for i in range(100000):\r\n",
    "    #print i\r\n",
    "    array_queue.dequeue()\r\n",
    "print(\"--- %s seconds ---\" % (time.time() - start_time))"
   ],
   "outputs": [
    {
     "output_type": "stream",
     "name": "stdout",
     "text": [
      "--- 0.049349308013916016 seconds ---\n"
     ]
    }
   ],
   "metadata": {}
  },
  {
   "cell_type": "code",
   "execution_count": 25,
   "source": [
    "class ListQueue:\r\n",
    "\r\n",
    "    def __init__(self):\r\n",
    "        self.items = []\r\n",
    "        self.size = 0\r\n",
    "\r\n",
    "    def empty(self):\r\n",
    "        return self.items == []\r\n",
    "\r\n",
    "    def enqueue(self, data):\r\n",
    "        self.items.insert(0, data)\r\n",
    "        self.size += 1\r\n",
    "\r\n",
    "    def dequeue(self):\r\n",
    "        data = self.items.pop()\r\n",
    "        self.size -= 1\r\n",
    "        return data\r\n",
    "\r\n",
    "    def size(self):\r\n",
    "        return self.size\r\n",
    "\r\n",
    "\r\n",
    "\r\n",
    "list_queue = ListQueue()\r\n",
    "\r\n",
    "import time\r\n",
    "start_time = time.time()\r\n",
    "for i in range(100000):\r\n",
    "    #print(i)\r\n",
    "    list_queue.enqueue(i)\r\n",
    "for i in range(100000):\r\n",
    "    list_queue.dequeue()\r\n",
    "print(\"--- %s seconds ---\" % (time.time() - start_time))"
   ],
   "outputs": [
    {
     "output_type": "stream",
     "name": "stdout",
     "text": [
      "--- 1.426811695098877 seconds ---\n"
     ]
    }
   ],
   "metadata": {}
  },
  {
   "cell_type": "code",
   "execution_count": 5,
   "source": [
    "l = list(range(10))\r\n",
    "print(l)\r\n",
    "# [0, 1, 2, 3, 4, 5, 6, 7, 8, 9]"
   ],
   "outputs": [
    {
     "output_type": "stream",
     "name": "stdout",
     "text": [
      "[0, 1, 2, 3, 4, 5, 6, 7, 8, 9]\n"
     ]
    }
   ],
   "metadata": {}
  },
  {
   "cell_type": "code",
   "execution_count": 6,
   "source": [
    "l.append(10)"
   ],
   "outputs": [],
   "metadata": {}
  },
  {
   "cell_type": "code",
   "execution_count": 35,
   "source": [
    "class Queue:\r\n",
    "    def __init__(self, size):\r\n",
    "        self.items = []\r\n",
    "        self.size = size\r\n",
    "        self.number = 0\r\n",
    "\r\n",
    "    def is_empty(self):\r\n",
    "        if self.items == []:\r\n",
    "            print('The Queue is empty, it can\\'t dequeue any element!')\r\n",
    "            return True\r\n",
    "        else:\r\n",
    "            return False\r\n",
    "\r\n",
    "    def is_full(self):\r\n",
    "        if self.number == self.size:\r\n",
    "            print('The Queue is full, it can\\'t enqueue any element!')\r\n",
    "            return True\r\n",
    "        else:\r\n",
    "            return False\r\n",
    "\r\n",
    "    def enqueue(self, data):\r\n",
    "        if not self.is_full():\r\n",
    "            self.items.append(data)\r\n",
    "            self.number +=1\r\n",
    "\r\n",
    "    def dequeue(self):\r\n",
    "        if not self.is_empty():\r\n",
    "            data = self.items.pop(0)\r\n",
    "            self.number -=1\r\n",
    "            return data"
   ],
   "outputs": [],
   "metadata": {}
  },
  {
   "cell_type": "code",
   "execution_count": 36,
   "source": [
    "l = [ x for x in range(10)]\r\n",
    "l"
   ],
   "outputs": [
    {
     "output_type": "execute_result",
     "data": {
      "text/plain": [
       "[0, 1, 2, 3, 4, 5, 6, 7, 8, 9]"
      ]
     },
     "metadata": {},
     "execution_count": 36
    }
   ],
   "metadata": {}
  },
  {
   "cell_type": "code",
   "execution_count": 37,
   "source": [
    "test = Queue(8)\r\n",
    "for i in l:\r\n",
    "    test.enqueue(i)"
   ],
   "outputs": [],
   "metadata": {}
  },
  {
   "cell_type": "code",
   "execution_count": 38,
   "source": [
    "test.items"
   ],
   "outputs": [
    {
     "output_type": "execute_result",
     "data": {
      "text/plain": [
       "[0, 1, 2, 3, 4, 5, 6, 7]"
      ]
     },
     "metadata": {},
     "execution_count": 38
    }
   ],
   "metadata": {}
  },
  {
   "cell_type": "code",
   "execution_count": 24,
   "source": [
    "class Queue:\r\n",
    "    def __init__(self):\r\n",
    "        self.inbound_stack = []\r\n",
    "        self.outbound_stack = []\r\n",
    "\r\n",
    "    def dequeue(self):\r\n",
    "        if not self.outbound_stack:\r\n",
    "            while self.inbound_stack:\r\n",
    "                self.outbound_stack.append(self.inbound_stack.pop())\r\n",
    "        return self.outbound_stack.pop()\r\n",
    "\r\n",
    "    def enqueue(self, data):\r\n",
    "        self.inbound_stack.append(data)\r\n",
    "\r\n",
    "list_queue = Queue()\r\n",
    "\r\n",
    "import time\r\n",
    "start_time = time.time()\r\n",
    "for i in range(100000):\r\n",
    "    #print(i)\r\n",
    "    list_queue.enqueue(i)\r\n",
    "for i in range(100000):\r\n",
    "    list_queue.dequeue()\r\n",
    "print(\"--- %s seconds ---\" % (time.time() - start_time))"
   ],
   "outputs": [
    {
     "output_type": "stream",
     "name": "stdout",
     "text": [
      "--- 0.04463696479797363 seconds ---\n"
     ]
    }
   ],
   "metadata": {}
  },
  {
   "cell_type": "code",
   "execution_count": null,
   "source": [],
   "outputs": [],
   "metadata": {}
  }
 ],
 "metadata": {
  "orig_nbformat": 4,
  "language_info": {
   "name": "python",
   "version": "3.8.5",
   "mimetype": "text/x-python",
   "codemirror_mode": {
    "name": "ipython",
    "version": 3
   },
   "pygments_lexer": "ipython3",
   "nbconvert_exporter": "python",
   "file_extension": ".py"
  },
  "kernelspec": {
   "name": "python3",
   "display_name": "Python 3.8.5 64-bit ('base': conda)"
  },
  "interpreter": {
   "hash": "5ac200a712f16a3b134d6c8b8e925408a9a632feecddc0d6c93c724ded7f7790"
  }
 },
 "nbformat": 4,
 "nbformat_minor": 2
}