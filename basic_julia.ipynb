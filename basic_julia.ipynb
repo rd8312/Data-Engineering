{
 "cells": [
  {
   "cell_type": "markdown",
   "source": [
    "- https://github.com/BenLauwens/ThinkJulia.jl\r\n",
    "- https://benlauwens.github.io/ThinkJulia.jl/latest/book.html"
   ],
   "metadata": {}
  },
  {
   "cell_type": "markdown",
   "source": [
    "## CH3 Function\r\n"
   ],
   "metadata": {}
  },
  {
   "cell_type": "code",
   "execution_count": null,
   "source": [],
   "outputs": [],
   "metadata": {}
  },
  {
   "cell_type": "code",
   "execution_count": null,
   "source": [],
   "outputs": [],
   "metadata": {}
  },
  {
   "cell_type": "code",
   "execution_count": null,
   "source": [],
   "outputs": [],
   "metadata": {}
  }
 ],
 "metadata": {
  "orig_nbformat": 4,
  "language_info": {
   "name": "python"
  }
 },
 "nbformat": 4,
 "nbformat_minor": 2
}