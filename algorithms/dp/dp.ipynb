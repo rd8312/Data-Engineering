{
 "cells": [
  {
   "cell_type": "markdown",
   "metadata": {},
   "source": [
    "![shortest_path](./pictures/shortest_path.png)"
   ]
  },
  {
   "cell_type": "code",
   "execution_count": 2,
   "metadata": {},
   "outputs": [
    {
     "name": "stdout",
     "output_type": "stream",
     "text": [
      "node:  F\n",
      "node:  E\n",
      "node:  D\n",
      "node:  C\n",
      "node:  B\n",
      "node:  A\n",
      "Dynamic Programming Table:\n",
      "Cost to reach A: 8\n",
      "Cost to reach B: 7\n",
      "Cost to reach C: 5\n",
      "Cost to reach D: 100\n",
      "Cost to reach E: 2\n",
      "Cost to reach F: 0\n",
      "\n",
      "Shortest path cost from A to F: 8\n"
     ]
    }
   ],
   "source": [
    "# Define the graph as a dictionary with edge weights\n",
    "graph = {\n",
    "    \"A\": {\"B\": 1, \"C\": 4},\n",
    "    \"B\": {\"D\": 1, \"E\": 5},\n",
    "    \"C\": {\"D\": 2, \"E\": 3},\n",
    "    \"D\": {\"F\": 100},\n",
    "    \"E\": {\"F\": 2},\n",
    "    \"F\": {}\n",
    "}\n",
    "\n",
    "# Function to compute the shortest path using dynamic programming\n",
    "def shortest_path_dp(graph, start, end):\n",
    "    # Store the minimum cost to reach each node\n",
    "    dp = {node: float(\"inf\") for node in graph}\n",
    "    dp[end] = 0  # Cost to reach the destination node is 0\n",
    "\n",
    "    # Process nodes in reverse topological order\n",
    "    for node in reversed(list(graph.keys())):\n",
    "        print(\"node: \", node)\n",
    "        for neighbor, weight in graph[node].items():\n",
    "            dp[node] = min(dp[node], weight + dp[neighbor])\n",
    "\n",
    "    return dp, dp[start]\n",
    "\n",
    "# Solve the problem\n",
    "dp_table, shortest_cost = shortest_path_dp(graph, \"A\", \"F\")\n",
    "\n",
    "# Print the results\n",
    "print(\"Dynamic Programming Table:\")\n",
    "for node, cost in dp_table.items():\n",
    "    print(f\"Cost to reach {node}: {cost}\")\n",
    "\n",
    "print(f\"\\nShortest path cost from A to F: {shortest_cost}\")"
   ]
  },
  {
   "cell_type": "code",
   "execution_count": null,
   "metadata": {},
   "outputs": [],
   "source": []
  }
 ],
 "metadata": {
  "kernelspec": {
   "display_name": "base",
   "language": "python",
   "name": "python3"
  },
  "language_info": {
   "codemirror_mode": {
    "name": "ipython",
    "version": 3
   },
   "file_extension": ".py",
   "mimetype": "text/x-python",
   "name": "python",
   "nbconvert_exporter": "python",
   "pygments_lexer": "ipython3",
   "version": "3.12.4"
  }
 },
 "nbformat": 4,
 "nbformat_minor": 2
}
