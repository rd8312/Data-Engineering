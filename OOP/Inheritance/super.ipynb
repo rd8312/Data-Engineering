{
 "cells": [
  {
   "cell_type": "code",
   "execution_count": 1,
   "metadata": {},
   "outputs": [],
   "source": [
    "# python3: super().__init__()\n",
    "# python2: super(本類別名, self).__init__()"
   ]
  },
  {
   "cell_type": "code",
   "execution_count": null,
   "metadata": {},
   "outputs": [],
   "source": [
    "# reference: https://blog.csdn.net/a__int__/article/details/104600972\n",
    "\n",
    "# python3\n",
    "class A:\n",
    "     def add(self, x):\n",
    "         y = x+1\n",
    "         print(y)\n",
    "class B(A):\n",
    "    def add(self, x):\n",
    "        super().add(x)\n",
    "b = B()\n",
    "b.add(2)  # 3\n",
    "\n",
    "# python2\n",
    "class A(object):   # Python2.x 記得繼承 object\n",
    "    def add(self, x):\n",
    "         y = x+1\n",
    "         print(y)\n",
    "class B(A):\n",
    "    def add(self, x):\n",
    "        super(B, self).add(x)\n",
    "b = B()\n",
    "b.add(2)  # 3"
   ]
  },
  {
   "cell_type": "code",
   "execution_count": 1,
   "metadata": {},
   "outputs": [
    {
     "name": "stdout",
     "output_type": "stream",
     "text": [
      "Calling child constructor\n",
      "Calling parent constructor\n"
     ]
    }
   ],
   "source": [
    "# basic\n",
    "class Parent:\n",
    "    def __init__(self):\n",
    "        print(\"Calling parent constructor\")\n",
    "        self.name = \"father\"\n",
    "\n",
    "class Child(Parent):\n",
    "    def __init__(self):\n",
    "        print(\"Calling child constructor\")\n",
    "        super().__init__()\n",
    "\n",
    "# call Child __init__() fisrt, and then call Parent __init__()\n",
    "child = Child()"
   ]
  },
  {
   "cell_type": "code",
   "execution_count": 2,
   "metadata": {},
   "outputs": [
    {
     "data": {
      "text/plain": [
       "'father'"
      ]
     },
     "execution_count": 2,
     "metadata": {},
     "output_type": "execute_result"
    }
   ],
   "source": [
    "# inherit Parent Attributes\n",
    "child.name"
   ]
  },
  {
   "cell_type": "code",
   "execution_count": 3,
   "metadata": {},
   "outputs": [
    {
     "name": "stdout",
     "output_type": "stream",
     "text": [
      "Calling child constructor\n",
      "Calling parent constructor\n"
     ]
    }
   ],
   "source": [
    "class Parent:\n",
    "    def __init__(self):\n",
    "        print(\"Calling parent constructor\")\n",
    "        self.name = \"father\"\n",
    "\n",
    "class Child(Parent):\n",
    "    def __init__(self, name):\n",
    "        print(\"Calling child constructor\")\n",
    "        super().__init__()\n",
    "        self.name = name\n",
    "\n",
    "# call Child __init__() fisrt, and then call Parent __init__()\n",
    "# change Child Attributes\n",
    "child = Child(\"son\")"
   ]
  },
  {
   "cell_type": "code",
   "execution_count": 4,
   "metadata": {},
   "outputs": [
    {
     "data": {
      "text/plain": [
       "'son'"
      ]
     },
     "execution_count": 4,
     "metadata": {},
     "output_type": "execute_result"
    }
   ],
   "source": [
    "child.name"
   ]
  },
  {
   "cell_type": "code",
   "execution_count": 5,
   "metadata": {},
   "outputs": [
    {
     "name": "stdout",
     "output_type": "stream",
     "text": [
      "Calling parent constructor\n"
     ]
    }
   ],
   "source": [
    "class Parent:\n",
    "    def __init__(self, name):\n",
    "        print(\"Calling parent constructor\")\n",
    "        self.name = name\n",
    "\n",
    "class Child(Parent):\n",
    "    def __init__(self, name):\n",
    "        print(\"Calling child constructor\")\n",
    "        super().__init__(name)\n",
    "\n",
    "parent = Parent(\"father\")"
   ]
  },
  {
   "cell_type": "code",
   "execution_count": 6,
   "metadata": {},
   "outputs": [
    {
     "name": "stdout",
     "output_type": "stream",
     "text": [
      "Calling child constructor\n",
      "Calling parent constructor\n"
     ]
    }
   ],
   "source": [
    "# call Child __init__() fisrt, and then call Parent __init__()\n",
    "# change Child Attributes\n",
    "child = Child(\"son\")"
   ]
  },
  {
   "cell_type": "code",
   "execution_count": 7,
   "metadata": {},
   "outputs": [
    {
     "data": {
      "text/plain": [
       "'son'"
      ]
     },
     "execution_count": 7,
     "metadata": {},
     "output_type": "execute_result"
    }
   ],
   "source": [
    "child.name"
   ]
  },
  {
   "cell_type": "code",
   "execution_count": 8,
   "metadata": {},
   "outputs": [
    {
     "name": "stdout",
     "output_type": "stream",
     "text": [
      "Calling parent constructor\n"
     ]
    }
   ],
   "source": [
    "class Parent:\n",
    "    def __init__(self, name, partner):\n",
    "        print(\"Calling parent constructor\")\n",
    "        self.name = name\n",
    "        self.partner = partner\n",
    "\n",
    "class Child(Parent):\n",
    "    def __init__(self, name):\n",
    "        print(\"Calling child constructor\")\n",
    "        super().__init__(name)\n",
    "\n",
    "parent = Parent(\"father\", \"mon\")"
   ]
  },
  {
   "cell_type": "code",
   "execution_count": 9,
   "metadata": {},
   "outputs": [
    {
     "name": "stdout",
     "output_type": "stream",
     "text": [
      "father\n",
      "mon\n"
     ]
    }
   ],
   "source": [
    "print(parent.name)\n",
    "print(parent.partner)"
   ]
  },
  {
   "cell_type": "code",
   "execution_count": 10,
   "metadata": {},
   "outputs": [
    {
     "name": "stdout",
     "output_type": "stream",
     "text": [
      "Calling child constructor\n"
     ]
    },
    {
     "ename": "TypeError",
     "evalue": "__init__() missing 1 required positional argument: 'partner'",
     "output_type": "error",
     "traceback": [
      "\u001b[1;31m---------------------------------------------------------------------------\u001b[0m",
      "\u001b[1;31mTypeError\u001b[0m                                 Traceback (most recent call last)",
      "Cell \u001b[1;32mIn[10], line 1\u001b[0m\n\u001b[1;32m----> 1\u001b[0m child \u001b[38;5;241m=\u001b[39m \u001b[43mChild\u001b[49m\u001b[43m(\u001b[49m\u001b[38;5;124;43m\"\u001b[39;49m\u001b[38;5;124;43mson\u001b[39;49m\u001b[38;5;124;43m\"\u001b[39;49m\u001b[43m)\u001b[49m\n",
      "Cell \u001b[1;32mIn[8], line 10\u001b[0m, in \u001b[0;36mChild.__init__\u001b[1;34m(self, name)\u001b[0m\n\u001b[0;32m      8\u001b[0m \u001b[38;5;28;01mdef\u001b[39;00m \u001b[38;5;21m__init__\u001b[39m(\u001b[38;5;28mself\u001b[39m, name):\n\u001b[0;32m      9\u001b[0m     \u001b[38;5;28mprint\u001b[39m(\u001b[38;5;124m\"\u001b[39m\u001b[38;5;124mCalling child constructor\u001b[39m\u001b[38;5;124m\"\u001b[39m)\n\u001b[1;32m---> 10\u001b[0m     \u001b[38;5;28;43msuper\u001b[39;49m\u001b[43m(\u001b[49m\u001b[43m)\u001b[49m\u001b[38;5;241;43m.\u001b[39;49m\u001b[38;5;21;43m__init__\u001b[39;49m\u001b[43m(\u001b[49m\u001b[43mname\u001b[49m\u001b[43m)\u001b[49m\n",
      "\u001b[1;31mTypeError\u001b[0m: __init__() missing 1 required positional argument: 'partner'"
     ]
    }
   ],
   "source": [
    "child = Child(\"son\")"
   ]
  },
  {
   "cell_type": "code",
   "execution_count": 11,
   "metadata": {},
   "outputs": [
    {
     "name": "stdout",
     "output_type": "stream",
     "text": [
      "Calling parent constructor\n"
     ]
    }
   ],
   "source": [
    "class Parent:\n",
    "    def __init__(self, name, partner=\"mon\"):\n",
    "        print(\"Calling parent constructor\")\n",
    "        self.name = name\n",
    "        self.partner = partner\n",
    "\n",
    "class Child(Parent):\n",
    "    def __init__(self, name):\n",
    "        print(\"Calling child constructor\")\n",
    "        super().__init__(name)\n",
    "\n",
    "parent = Parent(\"father\", \"mon\")"
   ]
  },
  {
   "cell_type": "code",
   "execution_count": 12,
   "metadata": {},
   "outputs": [
    {
     "name": "stdout",
     "output_type": "stream",
     "text": [
      "Calling child constructor\n",
      "Calling parent constructor\n"
     ]
    }
   ],
   "source": [
    "child = Child(\"son\")"
   ]
  },
  {
   "cell_type": "code",
   "execution_count": 13,
   "metadata": {},
   "outputs": [
    {
     "name": "stdout",
     "output_type": "stream",
     "text": [
      "son\n",
      "mon\n"
     ]
    }
   ],
   "source": [
    "# only change part attributes\n",
    "print(child.name)\n",
    "print(child.partner)"
   ]
  },
  {
   "cell_type": "code",
   "execution_count": 21,
   "metadata": {},
   "outputs": [
    {
     "name": "stdout",
     "output_type": "stream",
     "text": [
      "Calling parent constructor\n"
     ]
    }
   ],
   "source": [
    "# 不建議\n",
    "class Parent:\n",
    "    def __init__(self, name, partner=\"mon\"):\n",
    "        print(\"Calling parent constructor\")\n",
    "        self.name = name\n",
    "        self.partner = partner\n",
    "\n",
    "# don't write __init__ function, Child still call Parent __init__()\n",
    "class Child(Parent):\n",
    "    pass\n",
    "\n",
    "parent = Parent(\"father\", \"mon\")"
   ]
  },
  {
   "cell_type": "code",
   "execution_count": 22,
   "metadata": {},
   "outputs": [
    {
     "ename": "TypeError",
     "evalue": "__init__() missing 1 required positional argument: 'name'",
     "output_type": "error",
     "traceback": [
      "\u001b[1;31m---------------------------------------------------------------------------\u001b[0m",
      "\u001b[1;31mTypeError\u001b[0m                                 Traceback (most recent call last)",
      "Cell \u001b[1;32mIn[22], line 1\u001b[0m\n\u001b[1;32m----> 1\u001b[0m child \u001b[38;5;241m=\u001b[39m \u001b[43mChild\u001b[49m\u001b[43m(\u001b[49m\u001b[43m)\u001b[49m\n\u001b[0;32m      2\u001b[0m \u001b[38;5;28mprint\u001b[39m(child\u001b[38;5;241m.\u001b[39mname)\n\u001b[0;32m      3\u001b[0m \u001b[38;5;28mprint\u001b[39m(child\u001b[38;5;241m.\u001b[39mpartner)\n",
      "\u001b[1;31mTypeError\u001b[0m: __init__() missing 1 required positional argument: 'name'"
     ]
    }
   ],
   "source": [
    "child = Child()\n",
    "print(child.name)\n",
    "print(child.partner)"
   ]
  },
  {
   "cell_type": "code",
   "execution_count": 23,
   "metadata": {},
   "outputs": [
    {
     "name": "stdout",
     "output_type": "stream",
     "text": [
      "Calling parent constructor\n",
      "son\n",
      "mon\n"
     ]
    }
   ],
   "source": [
    "child = Child(\"son\")\n",
    "print(child.name)\n",
    "print(child.partner)"
   ]
  },
  {
   "cell_type": "markdown",
   "metadata": {},
   "source": [
    "## 繼承內建型態的子類別"
   ]
  },
  {
   "cell_type": "code",
   "execution_count": 4,
   "metadata": {},
   "outputs": [
    {
     "name": "stdout",
     "output_type": "stream",
     "text": [
      "{'one': 1}\n",
      "{'one': 1, 'two': [2, 2]}\n",
      "{'one': 1, 'two': [2, 2], 'three': 3}\n"
     ]
    }
   ],
   "source": [
    "# 違反了物件導向程式設計的一條基本規則:方法的搜尋，議定要從接收者(self)的類別開始，即使呼叫發生在超類別所實作的方法內\n",
    "class DoppelDict(dict):\n",
    "    def __setitem__(self, key, value):\n",
    "        super().__setitem__(key, [value]*2)\n",
    "\n",
    "dd = DoppelDict(one=1)\n",
    "print(dd)\n",
    "\n",
    "dd['two'] = 2\n",
    "print(dd)\n",
    "\n",
    "dd.update(three=3)\n",
    "print(dd)"
   ]
  },
  {
   "cell_type": "code",
   "execution_count": 5,
   "metadata": {},
   "outputs": [
    {
     "name": "stdout",
     "output_type": "stream",
     "text": [
      "42\n",
      "foo\n",
      "{'a': 'foo'}\n"
     ]
    }
   ],
   "source": [
    "# 直接忽略自訂的覆寫\n",
    "class AnswerDict(dict):\n",
    "    def __getitem__(self, key):\n",
    "        return 42\n",
    "    \n",
    "ad = AnswerDict(a='foo')\n",
    "print(ad['a'])\n",
    "\n",
    "d = {}\n",
    "d.update(ad)\n",
    "print(d['a'])\n",
    "\n",
    "print(d)"
   ]
  },
  {
   "cell_type": "code",
   "execution_count": 6,
   "metadata": {},
   "outputs": [
    {
     "name": "stdout",
     "output_type": "stream",
     "text": [
      "{'one': [1, 1]}\n",
      "{'one': [1, 1], 'two': [2, 2]}\n",
      "{'one': [1, 1], 'two': [2, 2], 'three': [3, 3]}\n",
      "42\n",
      "42\n",
      "{'a': 42}\n"
     ]
    }
   ],
   "source": [
    "# 與其繼承內建的 dict 類別，不如繼承 collections 模組中的 UserDict，UserList，UserString 來衍生自己的類別\n",
    "import collections\n",
    "\n",
    "class DoppelDict2(collections.UserDict):\n",
    "    def __setitem__(self, key, value):\n",
    "        super().__setitem__(key, [value]*2)\n",
    "\n",
    "dd = DoppelDict2(one=1)\n",
    "print(dd)\n",
    "\n",
    "dd['two'] = 2\n",
    "print(dd)\n",
    "\n",
    "dd.update(three=3)\n",
    "print(dd)\n",
    "\n",
    "class AnswerDict2(collections.UserDict):\n",
    "    def __getitem__(self, key):\n",
    "        return 42\n",
    "    \n",
    "ad = AnswerDict2(a='foo')\n",
    "print(ad['a'])\n",
    "\n",
    "d = {}\n",
    "d.update(ad)\n",
    "print(d['a'])\n",
    "\n",
    "print(d)"
   ]
  },
  {
   "cell_type": "markdown",
   "metadata": {},
   "source": [
    "## 多重繼承與方法解析順序"
   ]
  },
  {
   "cell_type": "code",
   "execution_count": 13,
   "metadata": {},
   "outputs": [],
   "source": [
    "# Root提供ping, pong與__repr__來讓輸出更易讀\n",
    "class Root:\n",
    "    def ping(self):\n",
    "        print(f'{self}.ping() in Root')\n",
    "\n",
    "    def pong(self):\n",
    "        print(f'{self}.pong() in Root')\n",
    "\n",
    "    def __repr__(self):\n",
    "        cls_name = type(self).__name__\n",
    "        return f'<instance of {cls_name}>'\n",
    "\n",
    "# class A 的 ping 與 pong 方法都會呼叫 super()\n",
    "class A(Root):\n",
    "    def ping(self):\n",
    "        print(f'{self}.ping() in A')\n",
    "        super().ping()\n",
    "\n",
    "    def pong(self):\n",
    "        print(f'{self}.pong() in A')\n",
    "        super().pong()\n",
    "\n",
    "# class B 只有 ping 方法都會呼叫 super()\n",
    "class B(Root):\n",
    "    def ping(self):\n",
    "        print(f'{self}.ping() in B')\n",
    "        super().ping()\n",
    "\n",
    "    def pong(self):\n",
    "        print(f'{self}.pong() in B')\n",
    "\n",
    "# class leaf 僅實作 ping 方法\n",
    "class Leaf(A, B):\n",
    "    def ping(self):\n",
    "        print(f'{self}.ping() in Leaf')\n",
    "        super().ping()"
   ]
  },
  {
   "cell_type": "code",
   "execution_count": 14,
   "metadata": {},
   "outputs": [
    {
     "name": "stdout",
     "output_type": "stream",
     "text": [
      "<instance of Leaf>.ping() in Leaf\n",
      "<instance of Leaf>.ping() in A\n",
      "<instance of Leaf>.ping() in B\n",
      "<instance of Leaf>.ping() in Root\n"
     ]
    }
   ],
   "source": [
    "leaf1 = Leaf()\n",
    "leaf1.ping()"
   ]
  },
  {
   "cell_type": "code",
   "execution_count": 15,
   "metadata": {},
   "outputs": [
    {
     "name": "stdout",
     "output_type": "stream",
     "text": [
      "<instance of Leaf>.pong() in A\n",
      "<instance of Leaf>.pong() in B\n"
     ]
    }
   ],
   "source": [
    "leaf1 = Leaf()\n",
    "leaf1.pong()"
   ]
  },
  {
   "cell_type": "code",
   "execution_count": 17,
   "metadata": {},
   "outputs": [
    {
     "data": {
      "text/plain": [
       "(__main__.Leaf, __main__.A, __main__.B, __main__.Root, object)"
      ]
     },
     "execution_count": 17,
     "metadata": {},
     "output_type": "execute_result"
    }
   ],
   "source": [
    "Leaf.__mro__"
   ]
  }
 ],
 "metadata": {
  "kernelspec": {
   "display_name": "gpu",
   "language": "python",
   "name": "python3"
  },
  "language_info": {
   "codemirror_mode": {
    "name": "ipython",
    "version": 3
   },
   "file_extension": ".py",
   "mimetype": "text/x-python",
   "name": "python",
   "nbconvert_exporter": "python",
   "pygments_lexer": "ipython3",
   "version": "3.9.18"
  }
 },
 "nbformat": 4,
 "nbformat_minor": 2
}
