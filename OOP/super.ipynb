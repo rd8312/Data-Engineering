{
 "cells": [
  {
   "cell_type": "code",
   "execution_count": 1,
   "metadata": {},
   "outputs": [],
   "source": [
    "# python3: super().__init__()\n",
    "# python2: super(本類別名, self).__init__()"
   ]
  },
  {
   "cell_type": "code",
   "execution_count": null,
   "metadata": {},
   "outputs": [],
   "source": [
    "# reference: https://blog.csdn.net/a__int__/article/details/104600972\n",
    "\n",
    "# python3\n",
    "class A:\n",
    "     def add(self, x):\n",
    "         y = x+1\n",
    "         print(y)\n",
    "class B(A):\n",
    "    def add(self, x):\n",
    "        super().add(x)\n",
    "b = B()\n",
    "b.add(2)  # 3\n",
    "\n",
    "# python2\n",
    "class A(object):   # Python2.x 記得繼承 object\n",
    "    def add(self, x):\n",
    "         y = x+1\n",
    "         print(y)\n",
    "class B(A):\n",
    "    def add(self, x):\n",
    "        super(B, self).add(x)\n",
    "b = B()\n",
    "b.add(2)  # 3"
   ]
  },
  {
   "cell_type": "code",
   "execution_count": 1,
   "metadata": {},
   "outputs": [
    {
     "name": "stdout",
     "output_type": "stream",
     "text": [
      "Calling child constructor\n",
      "Calling parent constructor\n"
     ]
    }
   ],
   "source": [
    "# basic\n",
    "class Parent:\n",
    "    def __init__(self):\n",
    "        print(\"Calling parent constructor\")\n",
    "        self.name = \"father\"\n",
    "\n",
    "class Child(Parent):\n",
    "    def __init__(self):\n",
    "        print(\"Calling child constructor\")\n",
    "        super().__init__()\n",
    "\n",
    "# call Child __init__() fisrt, and then call Parent __init__()\n",
    "child = Child()"
   ]
  },
  {
   "cell_type": "code",
   "execution_count": 2,
   "metadata": {},
   "outputs": [
    {
     "data": {
      "text/plain": [
       "'father'"
      ]
     },
     "execution_count": 2,
     "metadata": {},
     "output_type": "execute_result"
    }
   ],
   "source": [
    "# inherit Parent Attributes\n",
    "child.name"
   ]
  },
  {
   "cell_type": "code",
   "execution_count": 3,
   "metadata": {},
   "outputs": [
    {
     "name": "stdout",
     "output_type": "stream",
     "text": [
      "Calling child constructor\n",
      "Calling parent constructor\n"
     ]
    }
   ],
   "source": [
    "class Parent:\n",
    "    def __init__(self):\n",
    "        print(\"Calling parent constructor\")\n",
    "        self.name = \"father\"\n",
    "\n",
    "class Child(Parent):\n",
    "    def __init__(self, name):\n",
    "        print(\"Calling child constructor\")\n",
    "        super().__init__()\n",
    "        self.name = name\n",
    "\n",
    "# call Child __init__() fisrt, and then call Parent __init__()\n",
    "# change Child Attributes\n",
    "child = Child(\"son\")"
   ]
  },
  {
   "cell_type": "code",
   "execution_count": 4,
   "metadata": {},
   "outputs": [
    {
     "data": {
      "text/plain": [
       "'son'"
      ]
     },
     "execution_count": 4,
     "metadata": {},
     "output_type": "execute_result"
    }
   ],
   "source": [
    "child.name"
   ]
  },
  {
   "cell_type": "code",
   "execution_count": 5,
   "metadata": {},
   "outputs": [
    {
     "name": "stdout",
     "output_type": "stream",
     "text": [
      "Calling parent constructor\n"
     ]
    }
   ],
   "source": [
    "class Parent:\n",
    "    def __init__(self, name):\n",
    "        print(\"Calling parent constructor\")\n",
    "        self.name = name\n",
    "\n",
    "class Child(Parent):\n",
    "    def __init__(self, name):\n",
    "        print(\"Calling child constructor\")\n",
    "        super().__init__(name)\n",
    "\n",
    "parent = Parent(\"father\")"
   ]
  },
  {
   "cell_type": "code",
   "execution_count": 6,
   "metadata": {},
   "outputs": [
    {
     "name": "stdout",
     "output_type": "stream",
     "text": [
      "Calling child constructor\n",
      "Calling parent constructor\n"
     ]
    }
   ],
   "source": [
    "# call Child __init__() fisrt, and then call Parent __init__()\n",
    "# change Child Attributes\n",
    "child = Child(\"son\")"
   ]
  },
  {
   "cell_type": "code",
   "execution_count": 7,
   "metadata": {},
   "outputs": [
    {
     "data": {
      "text/plain": [
       "'son'"
      ]
     },
     "execution_count": 7,
     "metadata": {},
     "output_type": "execute_result"
    }
   ],
   "source": [
    "child.name"
   ]
  },
  {
   "cell_type": "code",
   "execution_count": 8,
   "metadata": {},
   "outputs": [
    {
     "name": "stdout",
     "output_type": "stream",
     "text": [
      "Calling parent constructor\n"
     ]
    }
   ],
   "source": [
    "class Parent:\n",
    "    def __init__(self, name, partner):\n",
    "        print(\"Calling parent constructor\")\n",
    "        self.name = name\n",
    "        self.partner = partner\n",
    "\n",
    "class Child(Parent):\n",
    "    def __init__(self, name):\n",
    "        print(\"Calling child constructor\")\n",
    "        super().__init__(name)\n",
    "\n",
    "parent = Parent(\"father\", \"mon\")"
   ]
  },
  {
   "cell_type": "code",
   "execution_count": 9,
   "metadata": {},
   "outputs": [
    {
     "name": "stdout",
     "output_type": "stream",
     "text": [
      "father\n",
      "mon\n"
     ]
    }
   ],
   "source": [
    "print(parent.name)\n",
    "print(parent.partner)"
   ]
  },
  {
   "cell_type": "code",
   "execution_count": 10,
   "metadata": {},
   "outputs": [
    {
     "name": "stdout",
     "output_type": "stream",
     "text": [
      "Calling child constructor\n"
     ]
    },
    {
     "ename": "TypeError",
     "evalue": "__init__() missing 1 required positional argument: 'partner'",
     "output_type": "error",
     "traceback": [
      "\u001b[1;31m---------------------------------------------------------------------------\u001b[0m",
      "\u001b[1;31mTypeError\u001b[0m                                 Traceback (most recent call last)",
      "Cell \u001b[1;32mIn[10], line 1\u001b[0m\n\u001b[1;32m----> 1\u001b[0m child \u001b[38;5;241m=\u001b[39m \u001b[43mChild\u001b[49m\u001b[43m(\u001b[49m\u001b[38;5;124;43m\"\u001b[39;49m\u001b[38;5;124;43mson\u001b[39;49m\u001b[38;5;124;43m\"\u001b[39;49m\u001b[43m)\u001b[49m\n",
      "Cell \u001b[1;32mIn[8], line 10\u001b[0m, in \u001b[0;36mChild.__init__\u001b[1;34m(self, name)\u001b[0m\n\u001b[0;32m      8\u001b[0m \u001b[38;5;28;01mdef\u001b[39;00m \u001b[38;5;21m__init__\u001b[39m(\u001b[38;5;28mself\u001b[39m, name):\n\u001b[0;32m      9\u001b[0m     \u001b[38;5;28mprint\u001b[39m(\u001b[38;5;124m\"\u001b[39m\u001b[38;5;124mCalling child constructor\u001b[39m\u001b[38;5;124m\"\u001b[39m)\n\u001b[1;32m---> 10\u001b[0m     \u001b[38;5;28;43msuper\u001b[39;49m\u001b[43m(\u001b[49m\u001b[43m)\u001b[49m\u001b[38;5;241;43m.\u001b[39;49m\u001b[38;5;21;43m__init__\u001b[39;49m\u001b[43m(\u001b[49m\u001b[43mname\u001b[49m\u001b[43m)\u001b[49m\n",
      "\u001b[1;31mTypeError\u001b[0m: __init__() missing 1 required positional argument: 'partner'"
     ]
    }
   ],
   "source": [
    "child = Child(\"son\")"
   ]
  },
  {
   "cell_type": "code",
   "execution_count": 11,
   "metadata": {},
   "outputs": [
    {
     "name": "stdout",
     "output_type": "stream",
     "text": [
      "Calling parent constructor\n"
     ]
    }
   ],
   "source": [
    "class Parent:\n",
    "    def __init__(self, name, partner=\"mon\"):\n",
    "        print(\"Calling parent constructor\")\n",
    "        self.name = name\n",
    "        self.partner = partner\n",
    "\n",
    "class Child(Parent):\n",
    "    def __init__(self, name):\n",
    "        print(\"Calling child constructor\")\n",
    "        super().__init__(name)\n",
    "\n",
    "parent = Parent(\"father\", \"mon\")"
   ]
  },
  {
   "cell_type": "code",
   "execution_count": 12,
   "metadata": {},
   "outputs": [
    {
     "name": "stdout",
     "output_type": "stream",
     "text": [
      "Calling child constructor\n",
      "Calling parent constructor\n"
     ]
    }
   ],
   "source": [
    "child = Child(\"son\")"
   ]
  },
  {
   "cell_type": "code",
   "execution_count": 13,
   "metadata": {},
   "outputs": [
    {
     "name": "stdout",
     "output_type": "stream",
     "text": [
      "son\n",
      "mon\n"
     ]
    }
   ],
   "source": [
    "# only change part attributes\n",
    "print(child.name)\n",
    "print(child.partner)"
   ]
  },
  {
   "cell_type": "code",
   "execution_count": 21,
   "metadata": {},
   "outputs": [
    {
     "name": "stdout",
     "output_type": "stream",
     "text": [
      "Calling parent constructor\n"
     ]
    }
   ],
   "source": [
    "# 不建議\n",
    "class Parent:\n",
    "    def __init__(self, name, partner=\"mon\"):\n",
    "        print(\"Calling parent constructor\")\n",
    "        self.name = name\n",
    "        self.partner = partner\n",
    "\n",
    "# don't write __init__ function, Child still call Parent __init__()\n",
    "class Child(Parent):\n",
    "    pass\n",
    "\n",
    "parent = Parent(\"father\", \"mon\")"
   ]
  },
  {
   "cell_type": "code",
   "execution_count": 22,
   "metadata": {},
   "outputs": [
    {
     "ename": "TypeError",
     "evalue": "__init__() missing 1 required positional argument: 'name'",
     "output_type": "error",
     "traceback": [
      "\u001b[1;31m---------------------------------------------------------------------------\u001b[0m",
      "\u001b[1;31mTypeError\u001b[0m                                 Traceback (most recent call last)",
      "Cell \u001b[1;32mIn[22], line 1\u001b[0m\n\u001b[1;32m----> 1\u001b[0m child \u001b[38;5;241m=\u001b[39m \u001b[43mChild\u001b[49m\u001b[43m(\u001b[49m\u001b[43m)\u001b[49m\n\u001b[0;32m      2\u001b[0m \u001b[38;5;28mprint\u001b[39m(child\u001b[38;5;241m.\u001b[39mname)\n\u001b[0;32m      3\u001b[0m \u001b[38;5;28mprint\u001b[39m(child\u001b[38;5;241m.\u001b[39mpartner)\n",
      "\u001b[1;31mTypeError\u001b[0m: __init__() missing 1 required positional argument: 'name'"
     ]
    }
   ],
   "source": [
    "child = Child()\n",
    "print(child.name)\n",
    "print(child.partner)"
   ]
  },
  {
   "cell_type": "code",
   "execution_count": 23,
   "metadata": {},
   "outputs": [
    {
     "name": "stdout",
     "output_type": "stream",
     "text": [
      "Calling parent constructor\n",
      "son\n",
      "mon\n"
     ]
    }
   ],
   "source": [
    "child = Child(\"son\")\n",
    "print(child.name)\n",
    "print(child.partner)"
   ]
  },
  {
   "cell_type": "markdown",
   "metadata": {},
   "source": [
    "## "
   ]
  },
  {
   "cell_type": "code",
   "execution_count": null,
   "metadata": {},
   "outputs": [],
   "source": []
  }
 ],
 "metadata": {
  "kernelspec": {
   "display_name": "gpu",
   "language": "python",
   "name": "gpu"
  },
  "language_info": {
   "codemirror_mode": {
    "name": "ipython",
    "version": 3
   },
   "file_extension": ".py",
   "mimetype": "text/x-python",
   "name": "python",
   "nbconvert_exporter": "python",
   "pygments_lexer": "ipython3",
   "version": "3.9.18"
  }
 },
 "nbformat": 4,
 "nbformat_minor": 2
}
