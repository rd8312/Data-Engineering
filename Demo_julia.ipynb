{
 "cells": [
  {
   "cell_type": "code",
   "execution_count": null,
   "source": [
    "#Permutations\r\n",
    "\r\n",
    "export\r\n",
    "    levicivita,\r\n",
    "    multiset_permutations,\r\n",
    "    nthperm!,\r\n",
    "    nthperm,\r\n",
    "    parity,\r\n",
    "    permutations\r\n",
    "\r\n",
    "\r\n",
    "struct Permutations{T}\r\n",
    "    a::T\r\n",
    "    t::Int\r\n",
    "end\r\n",
    "\r\n",
    "Base.eltype(::Type{Permutations{T}}) where {T} = Vector{eltype(T)}\r\n",
    "\r\n",
    "Base.length(p::Permutations) = (0 <= p.t <= length(p.a)) ? factorial(length(p.a), length(p.a)-p.t) : 0\r\n",
    "\r\n",
    "\"\"\"\r\n",
    "    permutations(a)\r\n",
    "Generate all permutations of an indexable object `a` in lexicographic order. Because the number of permutations\r\n",
    "can be very large, this function returns an iterator object.\r\n",
    "Use `collect(permutations(a))` to get an array of all permutations.\r\n",
    "\"\"\"\r\n",
    "permutations(a) = Permutations(a, length(a))\r\n",
    "\r\n",
    "\"\"\"\r\n",
    "    permutations(a, t)\r\n",
    "Generate all size `t` permutations of an indexable object `a`.\r\n",
    "\"\"\"\r\n",
    "function permutations(a, t::Integer)\r\n",
    "    if t < 0\r\n",
    "        t = length(a) + 1\r\n",
    "    end\r\n",
    "    Permutations(a, t)\r\n",
    "end\r\n",
    "\r\n",
    "function Base.iterate(p::Permutations, s = collect(1:length(p.a)))\r\n",
    "    (!isempty(s) && max(s[1], p.t) > length(p.a) || (isempty(s) && p.t > 0)) && return\r\n",
    "    nextpermutation(p.a, p.t ,s)\r\n",
    "end\r\n",
    "\r\n",
    "function nextpermutation(m, t, state)\r\n",
    "    perm = [m[state[i]] for i in 1:t]\r\n",
    "    n = length(state)\r\n",
    "    if t <= 0\r\n",
    "        return(perm, [n+1])\r\n",
    "    end\r\n",
    "    s = copy(state)\r\n",
    "    if t < n\r\n",
    "        j = t + 1\r\n",
    "        while j <= n &&  s[t] >= s[j]; j+=1; end\r\n",
    "    end\r\n",
    "    if t < n && j <= n\r\n",
    "        s[t], s[j] = s[j], s[t]\r\n",
    "    else\r\n",
    "        if t < n\r\n",
    "            reverse!(s, t+1)\r\n",
    "        end\r\n",
    "        i = t - 1\r\n",
    "        while i>=1 && s[i] >= s[i+1]; i -= 1; end\r\n",
    "        if i > 0\r\n",
    "            j = n\r\n",
    "            while j>i && s[i] >= s[j]; j -= 1; end\r\n",
    "            s[i], s[j] = s[j], s[i]\r\n",
    "            reverse!(s, i+1)\r\n",
    "        else\r\n",
    "            s[1] = n+1\r\n",
    "        end\r\n",
    "    end\r\n",
    "    return (perm, s)\r\n",
    "end\r\n",
    "\r\n",
    "struct MultiSetPermutations{T}\r\n",
    "    m::T\r\n",
    "    f::Vector{Int}\r\n",
    "    t::Int\r\n",
    "    ref::Vector{Int}\r\n",
    "end\r\n",
    "\r\n",
    "Base.eltype(::Type{MultiSetPermutations{T}}) where {T} = Vector{eltype(T)}\r\n",
    "\r\n",
    "function Base.length(c::MultiSetPermutations)\r\n",
    "    t = c.t\r\n",
    "    if t > length(c.ref)\r\n",
    "        return 0\r\n",
    "    end\r\n",
    "    if t > 20\r\n",
    "        g = [factorial(big(i)) for i in 0:t]\r\n",
    "    else\r\n",
    "        g = [factorial(i) for i in 0:t]\r\n",
    "    end\r\n",
    "    p = [g[t+1]; zeros(Float64,t)]\r\n",
    "    for i in 1:length(c.f)\r\n",
    "        f = c.f[i]\r\n",
    "        if i == 1\r\n",
    "            for j in 1:min(f, t)\r\n",
    "                p[j+1] = g[t+1]/g[j+1]\r\n",
    "            end\r\n",
    "        else\r\n",
    "            for j in t:-1:1\r\n",
    "                q = 0\r\n",
    "                for k in (j+1):-1:max(1,j+1-f)\r\n",
    "                    q += p[k]/g[j+2-k]\r\n",
    "                end\r\n",
    "                p[j+1] = q\r\n",
    "            end\r\n",
    "        end\r\n",
    "    end\r\n",
    "    return round(Int, p[t+1])\r\n",
    "end\r\n",
    "\r\n",
    "\"\"\"\r\n",
    "    multiset_permutations(m, f, t)\r\n",
    "Generate all permutations of size `t` from an array `a` with possibly duplicated elements.\r\n",
    "\"\"\"\r\n",
    "function multiset_permutations(a, t::Integer)\r\n",
    "    m = unique(collect(a))\r\n",
    "    f = [sum([c == x for c in a]) for x in m]\r\n",
    "    multiset_permutations(m, f, t)\r\n",
    "end\r\n",
    "\r\n",
    "function multiset_permutations(m, f::Vector{<:Integer}, t::Integer)\r\n",
    "    length(m) == length(f) || error(\"Lengths of m and f are not the same.\")\r\n",
    "    ref = length(f) > 0 ? vcat([[i for j in 1:f[i]] for i in 1:length(f)]...) : Int[]\r\n",
    "    if t < 0\r\n",
    "        t = length(ref) + 1\r\n",
    "    end\r\n",
    "    MultiSetPermutations(m, f, t, ref)\r\n",
    "end\r\n",
    "\r\n",
    "function Base.iterate(p::MultiSetPermutations, s = p.ref)\r\n",
    "    (!isempty(s) && max(s[1], p.t) > length(p.ref) || (isempty(s) && p.t > 0)) && return\r\n",
    "    nextpermutation(p.m, p.t, s)\r\n",
    "end\r\n",
    "\r\n",
    "\r\n",
    "\"\"\"\r\n",
    "    nthperm!(a, k)\r\n",
    "In-place version of [`nthperm`](@ref); the array `a` is overwritten.\r\n",
    "\"\"\"\r\n",
    "function nthperm!(a::AbstractVector, k::Integer)\r\n",
    "    n = length(a)\r\n",
    "    n == 0 && return a\r\n",
    "    f = factorial(oftype(k, n))\r\n",
    "    0 < k <= f || throw(ArgumentError(\"permutation k must satisfy 0 < k ≤ $f, got $k\"))\r\n",
    "    k -= 1 # make k 1-indexed\r\n",
    "    for i=1:n-1\r\n",
    "        f ÷= n - i + 1\r\n",
    "        j = k ÷ f\r\n",
    "        k -= j * f\r\n",
    "        j += i\r\n",
    "        elt = a[j]\r\n",
    "        for d = j:-1:i+1\r\n",
    "            a[d] = a[d-1]\r\n",
    "        end\r\n",
    "        a[i] = elt\r\n",
    "    end\r\n",
    "    a\r\n",
    "end\r\n",
    "\r\n",
    "\"\"\"\r\n",
    "    nthperm(a, k)\r\n",
    "Compute the `k`th lexicographic permutation of the vector `a`.\r\n",
    "\"\"\"\r\n",
    "nthperm(a::AbstractVector, k::Integer) = nthperm!(collect(a), k)\r\n",
    "\r\n",
    "\"\"\"\r\n",
    "    nthperm(p)\r\n",
    "Return the integer `k` that generated permutation `p`. Note that\r\n",
    "`nthperm(nthperm([1:n], k)) == k` for `1 <= k <= factorial(n)`.\r\n",
    "\"\"\"\r\n",
    "function nthperm(p::AbstractVector{<:Integer})\r\n",
    "    isperm(p) || throw(ArgumentError(\"argument is not a permutation\"))\r\n",
    "    k, n = 1, length(p)\r\n",
    "    for i = 1:n-1\r\n",
    "        f = factorial(n-i)\r\n",
    "        for j = i+1:n\r\n",
    "            k += ifelse(p[j] < p[i], f, 0)\r\n",
    "        end\r\n",
    "    end\r\n",
    "    return k\r\n",
    "end\r\n",
    "\r\n",
    "\r\n",
    "# Parity of permutations\r\n",
    "\r\n",
    "const levicivita_lut = cat([0 0  0;  0 0 1; 0 -1 0],\r\n",
    "                           [0 0 -1;  0 0 0; 1  0 0],\r\n",
    "                           [0 1  0; -1 0 0; 0  0 0]; dims=3)\r\n",
    "\r\n",
    "\"\"\"\r\n",
    "    levicivita(p)\r\n",
    "Compute the Levi-Civita symbol of a permutation `p`. Returns 1 if the permutation\r\n",
    "is even, -1 if it is odd, and 0 otherwise.\r\n",
    "The parity is computed by using the fact that a permutation is odd if and\r\n",
    "only if the number of even-length cycles is odd.\r\n",
    "\"\"\"\r\n",
    "function levicivita(p::AbstractVector{<:Integer})\r\n",
    "    n = length(p)\r\n",
    "\r\n",
    "    if n == 3\r\n",
    "        @inbounds valid = (0 < p[1] <= 3) * (0 < p[2] <= 3) * (0 < p[3] <= 3)\r\n",
    "        return valid ? levicivita_lut[p[1], p[2], p[3]] : 0\r\n",
    "    end\r\n",
    "\r\n",
    "    todo = trues(n)\r\n",
    "    first = 1\r\n",
    "    cycles = flips = 0\r\n",
    "\r\n",
    "    while cycles + flips < n\r\n",
    "        first = coalesce(findnext(todo, first), 0)\r\n",
    "        (todo[first] = !todo[first]) && return 0\r\n",
    "        j = p[first]\r\n",
    "        (0 < j <= n) || return 0\r\n",
    "        cycles += 1\r\n",
    "        while j ≠ first\r\n",
    "            (todo[j] = !todo[j]) && return 0\r\n",
    "            j = p[j]\r\n",
    "            (0 < j <= n) || return 0\r\n",
    "            flips += 1\r\n",
    "        end\r\n",
    "    end\r\n",
    "\r\n",
    "    return iseven(flips) ? 1 : -1\r\n",
    "end\r\n",
    "\r\n",
    "\"\"\"\r\n",
    "    parity(p)\r\n",
    "Compute the parity of a permutation `p` using the [`levicivita`](@ref) function,\r\n",
    "permitting calls such as `iseven(parity(p))`. If `p` is not a permutation then an\r\n",
    "error is thrown.\r\n",
    "\"\"\"\r\n",
    "function parity(p::AbstractVector{<:Integer})\r\n",
    "    epsilon = levicivita(p)\r\n",
    "    epsilon == 0 && throw(ArgumentError(\"Not a permutation\"))\r\n",
    "    epsilon == 1 ? 0 : 1\r\n",
    "end"
   ],
   "outputs": [],
   "metadata": {}
  },
  {
   "cell_type": "code",
   "execution_count": 9,
   "source": [
    "#Permutations\r\n",
    "\r\n",
    "export\r\n",
    "    levicivita,\r\n",
    "    multiset_permutations,\r\n",
    "    nthperm!,\r\n",
    "    nthperm,\r\n",
    "    parity,\r\n",
    "    permutations\r\n",
    "\r\n",
    "\r\n",
    "struct Permutations{T}\r\n",
    "    a::T\r\n",
    "    t::Int\r\n",
    "end\r\n",
    "\r\n",
    "Base.eltype(::Type{Permutations{T}}) where {T} = Vector{eltype(T)}\r\n",
    "\r\n",
    "Base.length(p::Permutations) = (0 <= p.t <= length(p.a)) ? factorial(length(p.a), length(p.a)-p.t) : 0\r\n",
    "\r\n",
    "\"\"\"\r\n",
    "    permutations(a)\r\n",
    "Generate all permutations of an indexable object `a` in lexicographic order. Because the number of permutations\r\n",
    "can be very large, this function returns an iterator object.\r\n",
    "Use `collect(permutations(a))` to get an array of all permutations.\r\n",
    "\"\"\"\r\n",
    "permutations(a) = Permutations(a, length(a))\r\n",
    "\r\n",
    "\"\"\"\r\n",
    "    permutations(a, t)\r\n",
    "Generate all size `t` permutations of an indexable object `a`.\r\n",
    "\"\"\"\r\n",
    "function permutations(a, t::Integer)\r\n",
    "    if t < 0\r\n",
    "        t = length(a) + 1\r\n",
    "    end\r\n",
    "    Permutations(a, t)\r\n",
    "end\r\n",
    "\r\n",
    "function Base.iterate(p::Permutations, s = collect(1:length(p.a)))\r\n",
    "    (!isempty(s) && max(s[1], p.t) > length(p.a) || (isempty(s) && p.t > 0)) && return\r\n",
    "    nextpermutation(p.a, p.t ,s)\r\n",
    "end\r\n",
    "\r\n",
    "function nextpermutation(m, t, state)\r\n",
    "    perm = [m[state[i]] for i in 1:t]\r\n",
    "    n = length(state)\r\n",
    "    if t <= 0\r\n",
    "        return(perm, [n+1])\r\n",
    "    end\r\n",
    "    s = copy(state)\r\n",
    "    if t < n\r\n",
    "        j = t + 1\r\n",
    "        while j <= n &&  s[t] >= s[j]; j+=1; end\r\n",
    "    end\r\n",
    "    if t < n && j <= n\r\n",
    "        s[t], s[j] = s[j], s[t]\r\n",
    "    else\r\n",
    "        if t < n\r\n",
    "            reverse!(s, t+1)\r\n",
    "        end\r\n",
    "        i = t - 1\r\n",
    "        while i>=1 && s[i] >= s[i+1]; i -= 1; end\r\n",
    "        if i > 0\r\n",
    "            j = n\r\n",
    "            while j>i && s[i] >= s[j]; j -= 1; end\r\n",
    "            s[i], s[j] = s[j], s[i]\r\n",
    "            reverse!(s, i+1)\r\n",
    "        else\r\n",
    "            s[1] = n+1\r\n",
    "        end\r\n",
    "    end\r\n",
    "    return (perm, s)\r\n",
    "end\r\n",
    "\r\n",
    "struct MultiSetPermutations{T}\r\n",
    "    m::T\r\n",
    "    f::Vector{Int}\r\n",
    "    t::Int\r\n",
    "    ref::Vector{Int}\r\n",
    "end\r\n",
    "\r\n",
    "Base.eltype(::Type{MultiSetPermutations{T}}) where {T} = Vector{eltype(T)}\r\n",
    "\r\n",
    "function Base.length(c::MultiSetPermutations)\r\n",
    "    t = c.t\r\n",
    "    if t > length(c.ref)\r\n",
    "        return 0\r\n",
    "    end\r\n",
    "    if t > 20\r\n",
    "        g = [factorial(big(i)) for i in 0:t]\r\n",
    "    else\r\n",
    "        g = [factorial(i) for i in 0:t]\r\n",
    "    end\r\n",
    "    p = [g[t+1]; zeros(Float64,t)]\r\n",
    "    for i in 1:length(c.f)\r\n",
    "        f = c.f[i]\r\n",
    "        if i == 1\r\n",
    "            for j in 1:min(f, t)\r\n",
    "                p[j+1] = g[t+1]/g[j+1]\r\n",
    "            end\r\n",
    "        else\r\n",
    "            for j in t:-1:1\r\n",
    "                q = 0\r\n",
    "                for k in (j+1):-1:max(1,j+1-f)\r\n",
    "                    q += p[k]/g[j+2-k]\r\n",
    "                end\r\n",
    "                p[j+1] = q\r\n",
    "            end\r\n",
    "        end\r\n",
    "    end\r\n",
    "    return round(Int, p[t+1])\r\n",
    "end\r\n",
    "\r\n",
    "\"\"\"\r\n",
    "    multiset_permutations(m, f, t)\r\n",
    "Generate all permutations of size `t` from an array `a` with possibly duplicated elements.\r\n",
    "\"\"\"\r\n",
    "function multiset_permutations(a, t::Integer)\r\n",
    "    m = unique(collect(a))\r\n",
    "    f = [sum([c == x for c in a]) for x in m]\r\n",
    "    multiset_permutations(m, f, t)\r\n",
    "end\r\n",
    "\r\n",
    "function multiset_permutations(m, f::Vector{<:Integer}, t::Integer)\r\n",
    "    length(m) == length(f) || error(\"Lengths of m and f are not the same.\")\r\n",
    "    ref = length(f) > 0 ? vcat([[i for j in 1:f[i]] for i in 1:length(f)]...) : Int[]\r\n",
    "    if t < 0\r\n",
    "        t = length(ref) + 1\r\n",
    "    end\r\n",
    "    MultiSetPermutations(m, f, t, ref)\r\n",
    "end\r\n",
    "\r\n",
    "function Base.iterate(p::MultiSetPermutations, s = p.ref)\r\n",
    "    (!isempty(s) && max(s[1], p.t) > length(p.ref) || (isempty(s) && p.t > 0)) && return\r\n",
    "    nextpermutation(p.m, p.t, s)\r\n",
    "end\r\n",
    "\r\n",
    "\r\n",
    "\"\"\"\r\n",
    "    nthperm!(a, k)\r\n",
    "In-place version of [`nthperm`](@ref); the array `a` is overwritten.\r\n",
    "\"\"\"\r\n",
    "function nthperm!(a::AbstractVector, k::Integer)\r\n",
    "    n = length(a)\r\n",
    "    n == 0 && return a\r\n",
    "    f = factorial(oftype(k, n))\r\n",
    "    0 < k <= f || throw(ArgumentError(\"permutation k must satisfy 0 < k ≤ $f, got $k\"))\r\n",
    "    k -= 1 # make k 1-indexed\r\n",
    "    for i=1:n-1\r\n",
    "        f ÷= n - i + 1\r\n",
    "        j = k ÷ f\r\n",
    "        k -= j * f\r\n",
    "        j += i\r\n",
    "        elt = a[j]\r\n",
    "        for d = j:-1:i+1\r\n",
    "            a[d] = a[d-1]\r\n",
    "        end\r\n",
    "        a[i] = elt\r\n",
    "    end\r\n",
    "    a\r\n",
    "end\r\n",
    "\r\n",
    "\"\"\"\r\n",
    "    nthperm(a, k)\r\n",
    "Compute the `k`th lexicographic permutation of the vector `a`.\r\n",
    "\"\"\"\r\n",
    "nthperm(a::AbstractVector, k::Integer) = nthperm!(collect(a), k)\r\n",
    "\r\n",
    "\"\"\"\r\n",
    "    nthperm(p)\r\n",
    "Return the integer `k` that generated permutation `p`. Note that\r\n",
    "`nthperm(nthperm([1:n], k)) == k` for `1 <= k <= factorial(n)`.\r\n",
    "\"\"\"\r\n",
    "function nthperm(p::AbstractVector{<:Integer})\r\n",
    "    isperm(p) || throw(ArgumentError(\"argument is not a permutation\"))\r\n",
    "    k, n = 1, length(p)\r\n",
    "    for i = 1:n-1\r\n",
    "        f = factorial(n-i)\r\n",
    "        for j = i+1:n\r\n",
    "            k += ifelse(p[j] < p[i], f, 0)\r\n",
    "        end\r\n",
    "    end\r\n",
    "    return k\r\n",
    "end"
   ],
   "outputs": [
    {
     "output_type": "error",
     "ename": "LoadError",
     "evalue": "\u001b[91msyntax: missing last argument in \"(i + 1):\" range expression \u001b[39m",
     "traceback": [
      "\u001b[91msyntax: missing last argument in \"(i + 1):\" range expression \u001b[39m",
      "",
      "Stacktrace:",
      " [1] top-level scope at In[9]:14",
      " [2] include_string(::Function, ::Module, ::String, ::String) at .\\loading.jl:1091"
     ]
    }
   ],
   "metadata": {}
  },
  {
   "cell_type": "code",
   "execution_count": 10,
   "source": [
    "abstract type AbstractPermutation end"
   ],
   "outputs": [],
   "metadata": {}
  },
  {
   "cell_type": "code",
   "execution_count": 11,
   "source": [
    "println(\"Enter words :\"); txt = readline()\r\n",
    "txt"
   ],
   "outputs": [
    {
     "output_type": "stream",
     "name": "stdout",
     "text": [
      "Enter words :\n"
     ]
    },
    {
     "output_type": "execute_result",
     "data": {
      "text/plain": [
       "\"hellow word!\""
      ]
     },
     "metadata": {},
     "execution_count": 11
    }
   ],
   "metadata": {}
  },
  {
   "cell_type": "code",
   "execution_count": 16,
   "source": [
    "i = 3\r\n",
    "txt[1:i]\r\n",
    "txt[1:i]*txt[i+1:end]"
   ],
   "outputs": [
    {
     "output_type": "execute_result",
     "data": {
      "text/plain": [
       "\"hellow word!\""
      ]
     },
     "metadata": {},
     "execution_count": 16
    }
   ],
   "metadata": {}
  },
  {
   "cell_type": "code",
   "execution_count": 19,
   "source": [
    "txt"
   ],
   "outputs": [
    {
     "output_type": "execute_result",
     "data": {
      "text/plain": [
       "\"hellow word!\""
      ]
     },
     "metadata": {},
     "execution_count": 19
    }
   ],
   "metadata": {}
  },
  {
   "cell_type": "code",
   "execution_count": 23,
   "source": [
    "txt[1:i-1]"
   ],
   "outputs": [
    {
     "output_type": "execute_result",
     "data": {
      "text/plain": [
       "\"\""
      ]
     },
     "metadata": {},
     "execution_count": 23
    }
   ],
   "metadata": {}
  },
  {
   "cell_type": "code",
   "execution_count": 22,
   "source": [
    "txt[i+1:end]"
   ],
   "outputs": [
    {
     "output_type": "execute_result",
     "data": {
      "text/plain": [
       "\"low word!\""
      ]
     },
     "metadata": {},
     "execution_count": 22
    }
   ],
   "metadata": {}
  },
  {
   "cell_type": "code",
   "execution_count": 25,
   "source": [
    "i"
   ],
   "outputs": [
    {
     "output_type": "execute_result",
     "data": {
      "text/plain": [
       "3"
      ]
     },
     "metadata": {},
     "execution_count": 25
    }
   ],
   "metadata": {}
  },
  {
   "cell_type": "code",
   "execution_count": 27,
   "source": [
    "txt[1:i-1] * txt[i+1:end]"
   ],
   "outputs": [
    {
     "output_type": "execute_result",
     "data": {
      "text/plain": [
       "\"helow word!\""
      ]
     },
     "metadata": {},
     "execution_count": 27
    }
   ],
   "metadata": {}
  },
  {
   "cell_type": "code",
   "execution_count": 28,
   "source": [
    "for i in txt\r\n",
    "    println(i)\r\n",
    "end"
   ],
   "outputs": [
    {
     "output_type": "stream",
     "name": "stdout",
     "text": [
      "h\n",
      "e\n",
      "l\n",
      "l\n",
      "o\n",
      "w\n",
      " \n",
      "w\n",
      "o\n",
      "r\n",
      "d\n",
      "!\n"
     ]
    }
   ],
   "metadata": {}
  },
  {
   "cell_type": "code",
   "execution_count": 22,
   "source": [
    "function permutation(lst)\r\n",
    "\r\n",
    "    if length(lst) == 0\r\n",
    "        return \"\"\r\n",
    "    end\r\n",
    "    \r\n",
    "    if length(lst) == 1\r\n",
    "        return lst\r\n",
    "    end\r\n",
    "\r\n",
    "    ans_lst = []\r\n",
    "    for i in 1:length(lst)\r\n",
    "        m = lst[i]\r\n",
    "        rem_lst = lst[1:i-1] * lst[i+1:end]\r\n",
    "        tmp_lst = []\r\n",
    "        for p in permutation(rem_lst)\r\n",
    "            #println(append!([m], [p]))\r\n",
    "            tmp_lst = append!([m], [p])\r\n",
    "        end\r\n",
    "        println(append!([m], tmp_lst))\r\n",
    "        ans_lst = append!([m], tmp_lst)\r\n",
    "\r\n",
    "    end\r\n",
    "\r\n",
    "    return ans_lst\r\n",
    "\r\n",
    "end"
   ],
   "outputs": [
    {
     "output_type": "execute_result",
     "data": {
      "text/plain": [
       "permutation (generic function with 1 method)"
      ]
     },
     "metadata": {},
     "execution_count": 22
    }
   ],
   "metadata": {}
  },
  {
   "cell_type": "code",
   "execution_count": 23,
   "source": [
    "println(\"Enter words :\"); txt = readline()\r\n",
    "txt"
   ],
   "outputs": [
    {
     "output_type": "stream",
     "name": "stdout",
     "text": [
      "Enter words :\n"
     ]
    },
    {
     "output_type": "execute_result",
     "data": {
      "text/plain": [
       "\"tmp\""
      ]
     },
     "metadata": {},
     "execution_count": 23
    }
   ],
   "metadata": {}
  },
  {
   "cell_type": "code",
   "execution_count": 24,
   "source": [
    "result = permutation(txt)\r\n",
    "result"
   ],
   "outputs": [
    {
     "output_type": "stream",
     "name": "stdout",
     "text": [
      "['m', 'm', 'p']\n",
      "['p', 'p', 'm']\n",
      "['t', 't', 'm']\n",
      "['t', 't', 'p']\n",
      "['p', 'p', 't']\n",
      "['m', 'm', 't']\n",
      "['t', 't', 'm']\n",
      "['m', 'm', 't']\n",
      "['p', 'p', 't']\n"
     ]
    },
    {
     "output_type": "execute_result",
     "data": {
      "text/plain": [
       "3-element Array{Char,1}:\n",
       " 'p': ASCII/Unicode U+0070 (category Ll: Letter, lowercase)\n",
       " 'p': ASCII/Unicode U+0070 (category Ll: Letter, lowercase)\n",
       " 't': ASCII/Unicode U+0074 (category Ll: Letter, lowercase)"
      ]
     },
     "metadata": {},
     "execution_count": 24
    }
   ],
   "metadata": {}
  },
  {
   "cell_type": "code",
   "execution_count": 13,
   "source": [
    "for result in permutation(txt)\r\n",
    "    println(result)\r\n",
    "end"
   ],
   "outputs": [
    {
     "output_type": "stream",
     "name": "stdout",
     "text": [
      "t\n",
      "m\n",
      "t\n",
      "p\n",
      "t\n",
      "p\n",
      "t\n",
      "m\n",
      "m\n",
      "t\n",
      "m\n",
      "p\n",
      "m\n",
      "p\n",
      "m\n",
      "t\n",
      "p\n",
      "t\n",
      "p\n",
      "m\n",
      "p\n",
      "m\n",
      "p\n",
      "t\n"
     ]
    }
   ],
   "metadata": {}
  },
  {
   "cell_type": "code",
   "execution_count": 4,
   "source": [
    "typeof(txt)"
   ],
   "outputs": [
    {
     "output_type": "execute_result",
     "data": {
      "text/plain": [
       "String"
      ]
     },
     "metadata": {},
     "execution_count": 4
    }
   ],
   "metadata": {}
  },
  {
   "cell_type": "code",
   "execution_count": 34,
   "source": [
    "length(txt)"
   ],
   "outputs": [
    {
     "output_type": "execute_result",
     "data": {
      "text/plain": [
       "12"
      ]
     },
     "metadata": {},
     "execution_count": 34
    }
   ],
   "metadata": {}
  },
  {
   "cell_type": "code",
   "execution_count": 6,
   "source": [
    "for i in 1:length(txt)\r\n",
    "    println(i)\r\n",
    "end"
   ],
   "outputs": [
    {
     "output_type": "stream",
     "name": "stdout",
     "text": [
      "1\n",
      "2\n",
      "3\n",
      "4\n"
     ]
    }
   ],
   "metadata": {}
  },
  {
   "cell_type": "code",
   "execution_count": null,
   "source": [],
   "outputs": [],
   "metadata": {}
  }
 ],
 "metadata": {
  "orig_nbformat": 4,
  "language_info": {
   "file_extension": ".jl",
   "name": "julia",
   "mimetype": "application/julia",
   "version": "1.5.3"
  },
  "kernelspec": {
   "name": "julia-1.5",
   "display_name": "Julia 1.5.3",
   "language": "julia"
  },
  "interpreter": {
   "hash": "5ac200a712f16a3b134d6c8b8e925408a9a632feecddc0d6c93c724ded7f7790"
  }
 },
 "nbformat": 4,
 "nbformat_minor": 2
}